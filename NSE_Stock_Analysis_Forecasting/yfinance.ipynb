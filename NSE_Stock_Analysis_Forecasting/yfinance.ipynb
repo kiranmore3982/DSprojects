{
 "cells": [
  {
   "cell_type": "code",
   "execution_count": 22,
   "metadata": {},
   "outputs": [],
   "source": [
    "#!pip install yfinance"
   ]
  },
  {
   "cell_type": "code",
   "execution_count": 1,
   "metadata": {},
   "outputs": [],
   "source": [
    "import yfinance as yf\n",
    "import pandas as pd\n",
    "from datetime import date\n",
    "import matplotlib.pyplot as plt\n",
    "from pandas import read_csv\n",
    "from sklearn.preprocessing import MinMaxScaler"
   ]
  },
  {
   "cell_type": "code",
   "execution_count": 2,
   "metadata": {},
   "outputs": [],
   "source": [
    "# Set the start and end date\n",
    "#start_date = '2017-05-25'\n",
    "#end_date = date.today().strftime('%Y-%m-%d')\n",
    "#end_date"
   ]
  },
  {
   "cell_type": "code",
   "execution_count": 5,
   "metadata": {},
   "outputs": [
    {
     "name": "stdout",
     "output_type": "stream",
     "text": [
      "[*********************100%***********************]  1 of 1 completed\n",
      "[*********************100%***********************]  1 of 1 completed\n",
      "[*********************100%***********************]  1 of 1 completed\n",
      "[*********************100%***********************]  1 of 1 completed\n",
      "[*********************100%***********************]  1 of 1 completed\n",
      "[*********************100%***********************]  1 of 1 completed\n",
      "[*********************100%***********************]  1 of 1 completed\n",
      "[*********************100%***********************]  1 of 1 completed\n",
      "[*********************100%***********************]  1 of 1 completed\n",
      "[*********************100%***********************]  1 of 1 completed\n"
     ]
    }
   ],
   "source": [
    "tickers_list = ['RELIANCE','TCS','HDFCBANK','INFY','ICICIBANK','HINDUNILVR','SBIN','BAJFINANCE','HDFC','WIPRO']\n",
    "#tickers_list = ['TCS']\n",
    "# Create placeholder for data\n",
    "dataFinal = pd.DataFrame()\n",
    "\n",
    "# Fetch the data\n",
    "for ticker in tickers_list:\n",
    "    data = pd.DataFrame()  \n",
    "    #data = yf.download(ticker+'.NS', start=start_date, end=end_date)\n",
    "    data = yf.download(ticker+'.NS', period='5y',interval=\"1d\")\n",
    "    fileName = 'data/'+str(ticker)+'_stock.csv'\n",
    "    #data.insert(0, 'Ticker', ticker)\n",
    "    #print(data)\n",
    "    #dataFinal = dataFinal.append(data)    \n",
    "    if len(data):\n",
    "        data.to_csv(fileName)\n"
   ]
  },
  {
   "cell_type": "code",
   "execution_count": 26,
   "metadata": {},
   "outputs": [],
   "source": [
    "#dataFinal.to_csv('stock.csv')"
   ]
  },
  {
   "cell_type": "code",
   "execution_count": 6,
   "metadata": {},
   "outputs": [],
   "source": [
    "company ='TCS'"
   ]
  },
  {
   "cell_type": "code",
   "execution_count": 7,
   "metadata": {},
   "outputs": [],
   "source": [
    "fileData = read_csv('data/'+company+'_stock.csv')"
   ]
  },
  {
   "cell_type": "code",
   "execution_count": 8,
   "metadata": {},
   "outputs": [
    {
     "data": {
      "text/html": [
       "<div>\n",
       "<style scoped>\n",
       "    .dataframe tbody tr th:only-of-type {\n",
       "        vertical-align: middle;\n",
       "    }\n",
       "\n",
       "    .dataframe tbody tr th {\n",
       "        vertical-align: top;\n",
       "    }\n",
       "\n",
       "    .dataframe thead th {\n",
       "        text-align: right;\n",
       "    }\n",
       "</style>\n",
       "<table border=\"1\" class=\"dataframe\">\n",
       "  <thead>\n",
       "    <tr style=\"text-align: right;\">\n",
       "      <th></th>\n",
       "      <th>Date</th>\n",
       "      <th>Open</th>\n",
       "      <th>High</th>\n",
       "      <th>Low</th>\n",
       "      <th>Close</th>\n",
       "      <th>Adj Close</th>\n",
       "      <th>Volume</th>\n",
       "    </tr>\n",
       "  </thead>\n",
       "  <tbody>\n",
       "    <tr>\n",
       "      <th>0</th>\n",
       "      <td>2017-05-25</td>\n",
       "      <td>1288.500000</td>\n",
       "      <td>1318.775024</td>\n",
       "      <td>1284.000000</td>\n",
       "      <td>1312.300049</td>\n",
       "      <td>1185.019653</td>\n",
       "      <td>4094094.0</td>\n",
       "    </tr>\n",
       "    <tr>\n",
       "      <th>1</th>\n",
       "      <td>2017-05-26</td>\n",
       "      <td>1312.500000</td>\n",
       "      <td>1313.425049</td>\n",
       "      <td>1282.324951</td>\n",
       "      <td>1289.125000</td>\n",
       "      <td>1164.092651</td>\n",
       "      <td>1362550.0</td>\n",
       "    </tr>\n",
       "    <tr>\n",
       "      <th>2</th>\n",
       "      <td>2017-05-29</td>\n",
       "      <td>1289.500000</td>\n",
       "      <td>1298.250000</td>\n",
       "      <td>1282.000000</td>\n",
       "      <td>1286.425049</td>\n",
       "      <td>1161.654297</td>\n",
       "      <td>1749290.0</td>\n",
       "    </tr>\n",
       "    <tr>\n",
       "      <th>3</th>\n",
       "      <td>2017-05-30</td>\n",
       "      <td>1280.000000</td>\n",
       "      <td>1287.974976</td>\n",
       "      <td>1262.500000</td>\n",
       "      <td>1275.550049</td>\n",
       "      <td>1151.834106</td>\n",
       "      <td>927634.0</td>\n",
       "    </tr>\n",
       "    <tr>\n",
       "      <th>4</th>\n",
       "      <td>2017-05-31</td>\n",
       "      <td>1266.500000</td>\n",
       "      <td>1286.250000</td>\n",
       "      <td>1264.000000</td>\n",
       "      <td>1273.300049</td>\n",
       "      <td>1149.802368</td>\n",
       "      <td>2502730.0</td>\n",
       "    </tr>\n",
       "    <tr>\n",
       "      <th>...</th>\n",
       "      <td>...</td>\n",
       "      <td>...</td>\n",
       "      <td>...</td>\n",
       "      <td>...</td>\n",
       "      <td>...</td>\n",
       "      <td>...</td>\n",
       "      <td>...</td>\n",
       "    </tr>\n",
       "    <tr>\n",
       "      <th>1231</th>\n",
       "      <td>2022-05-19</td>\n",
       "      <td>3397.000000</td>\n",
       "      <td>3405.000000</td>\n",
       "      <td>3230.000000</td>\n",
       "      <td>3261.949951</td>\n",
       "      <td>3240.124268</td>\n",
       "      <td>4642963.0</td>\n",
       "    </tr>\n",
       "    <tr>\n",
       "      <th>1232</th>\n",
       "      <td>2022-05-20</td>\n",
       "      <td>3310.000000</td>\n",
       "      <td>3313.899902</td>\n",
       "      <td>3270.050049</td>\n",
       "      <td>3293.000000</td>\n",
       "      <td>3270.966553</td>\n",
       "      <td>3065125.0</td>\n",
       "    </tr>\n",
       "    <tr>\n",
       "      <th>1233</th>\n",
       "      <td>2022-05-23</td>\n",
       "      <td>3304.800049</td>\n",
       "      <td>3338.899902</td>\n",
       "      <td>3267.000000</td>\n",
       "      <td>3321.750000</td>\n",
       "      <td>3299.524170</td>\n",
       "      <td>2293690.0</td>\n",
       "    </tr>\n",
       "    <tr>\n",
       "      <th>1234</th>\n",
       "      <td>2022-05-24</td>\n",
       "      <td>3315.149902</td>\n",
       "      <td>3324.850098</td>\n",
       "      <td>3275.600098</td>\n",
       "      <td>3288.000000</td>\n",
       "      <td>3266.000000</td>\n",
       "      <td>1711510.0</td>\n",
       "    </tr>\n",
       "    <tr>\n",
       "      <th>1235</th>\n",
       "      <td>2022-05-25</td>\n",
       "      <td>NaN</td>\n",
       "      <td>NaN</td>\n",
       "      <td>NaN</td>\n",
       "      <td>NaN</td>\n",
       "      <td>NaN</td>\n",
       "      <td>NaN</td>\n",
       "    </tr>\n",
       "  </tbody>\n",
       "</table>\n",
       "<p>1236 rows × 7 columns</p>\n",
       "</div>"
      ],
      "text/plain": [
       "            Date         Open         High          Low        Close  \\\n",
       "0     2017-05-25  1288.500000  1318.775024  1284.000000  1312.300049   \n",
       "1     2017-05-26  1312.500000  1313.425049  1282.324951  1289.125000   \n",
       "2     2017-05-29  1289.500000  1298.250000  1282.000000  1286.425049   \n",
       "3     2017-05-30  1280.000000  1287.974976  1262.500000  1275.550049   \n",
       "4     2017-05-31  1266.500000  1286.250000  1264.000000  1273.300049   \n",
       "...          ...          ...          ...          ...          ...   \n",
       "1231  2022-05-19  3397.000000  3405.000000  3230.000000  3261.949951   \n",
       "1232  2022-05-20  3310.000000  3313.899902  3270.050049  3293.000000   \n",
       "1233  2022-05-23  3304.800049  3338.899902  3267.000000  3321.750000   \n",
       "1234  2022-05-24  3315.149902  3324.850098  3275.600098  3288.000000   \n",
       "1235  2022-05-25          NaN          NaN          NaN          NaN   \n",
       "\n",
       "        Adj Close     Volume  \n",
       "0     1185.019653  4094094.0  \n",
       "1     1164.092651  1362550.0  \n",
       "2     1161.654297  1749290.0  \n",
       "3     1151.834106   927634.0  \n",
       "4     1149.802368  2502730.0  \n",
       "...           ...        ...  \n",
       "1231  3240.124268  4642963.0  \n",
       "1232  3270.966553  3065125.0  \n",
       "1233  3299.524170  2293690.0  \n",
       "1234  3266.000000  1711510.0  \n",
       "1235          NaN        NaN  \n",
       "\n",
       "[1236 rows x 7 columns]"
      ]
     },
     "execution_count": 8,
     "metadata": {},
     "output_type": "execute_result"
    }
   ],
   "source": [
    "fileData"
   ]
  },
  {
   "cell_type": "code",
   "execution_count": null,
   "metadata": {},
   "outputs": [],
   "source": []
  }
 ],
 "metadata": {
  "kernelspec": {
   "display_name": "Python 3",
   "language": "python",
   "name": "python3"
  },
  "language_info": {
   "codemirror_mode": {
    "name": "ipython",
    "version": 3
   },
   "file_extension": ".py",
   "mimetype": "text/x-python",
   "name": "python",
   "nbconvert_exporter": "python",
   "pygments_lexer": "ipython3",
   "version": "3.8.5"
  },
  "varInspector": {
   "cols": {
    "lenName": 16,
    "lenType": 16,
    "lenVar": 40
   },
   "kernels_config": {
    "python": {
     "delete_cmd_postfix": "",
     "delete_cmd_prefix": "del ",
     "library": "var_list.py",
     "varRefreshCmd": "print(var_dic_list())"
    },
    "r": {
     "delete_cmd_postfix": ") ",
     "delete_cmd_prefix": "rm(",
     "library": "var_list.r",
     "varRefreshCmd": "cat(var_dic_list()) "
    }
   },
   "types_to_exclude": [
    "module",
    "function",
    "builtin_function_or_method",
    "instance",
    "_Feature"
   ],
   "window_display": false
  }
 },
 "nbformat": 4,
 "nbformat_minor": 4
}
